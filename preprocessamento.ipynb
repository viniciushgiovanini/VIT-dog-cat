{
 "cells": [
  {
   "cell_type": "code",
   "execution_count": 11,
   "metadata": {},
   "outputs": [],
   "source": [
    "import numpy as np\n",
    "import pandas as pd\n",
    "import matplotlib.pyplot as plt\n",
    "import sklearn\n",
    "import cv2\n",
    "import os\n",
    "import shutil\n",
    "from PIL import Image\n",
    "import random"
   ]
  },
  {
   "cell_type": "markdown",
   "metadata": {},
   "source": [
    "Gerar divisão treino e teste"
   ]
  },
  {
   "cell_type": "code",
   "execution_count": 12,
   "metadata": {},
   "outputs": [],
   "source": [
    "def obter_nomes_pastas(diretorio):\n",
    "    nomes_pastas = []\n",
    "    for nome in os.listdir(diretorio):\n",
    "        if os.path.isdir(os.path.join(diretorio, nome)):\n",
    "            nomes_pastas.append(nome)\n",
    "    return nomes_pastas\n",
    "  \n",
    "  \n",
    "# Exemplo de uso\n",
    "cwd = os.getcwd()\n",
    "\n",
    "\n",
    "diretorio = cwd + \"./data/dataset_origial/\"\n",
    "pastas = obter_nomes_pastas(diretorio)\n",
    "\n",
    "diretorio_origem = diretorio\n",
    "diretorio_destino = cwd + './data/dataset_treino_e_teste/'\n",
    "\n",
    "percent = 0.8\n",
    "\n",
    "for each in pastas:\n",
    "\n",
    "    # Diretório contendo todas as imagens\n",
    "    diretorio_imagens = diretorio_origem + f'/{each}/'\n",
    "\n",
    "    # Diretório para salvar as imagens de treinamento\n",
    "    diretorio_treinamento = diretorio_destino + f'/train/{each}/'\n",
    "\n",
    "    # Diretório para salvar as imagens de teste\n",
    "    diretorio_teste = diretorio_destino + f'/test/{each}/'\n",
    "\n",
    "    # Lista todas as imagens no diretório\n",
    "    imagens = os.listdir(diretorio_imagens)\n",
    "\n",
    "    # Embaralha a lista de imagens\n",
    "    random.shuffle(imagens)\n",
    "\n",
    "    # Calcula o índice para dividir as imagens\n",
    "    indice_divisao = int(percent * len(imagens))\n",
    "\n",
    "    # Separa as imagens em treinamento e teste\n",
    "    imagens_treinamento = imagens[:indice_divisao]\n",
    "    imagens_teste = imagens[indice_divisao:]\n",
    "\n",
    "    if not (os.path.exists(diretorio_teste)):\n",
    "        os.makedirs(diretorio_teste)\n",
    "\n",
    "    if not (os.path.exists(diretorio_treinamento)):\n",
    "        os.makedirs(diretorio_treinamento)\n",
    "\n",
    "    # Move as imagens para os diretórios correspondentes\n",
    "    for imagem in imagens_treinamento:\n",
    "        shutil.copy(os.path.join(diretorio_imagens, imagem),\n",
    "                    diretorio_treinamento)\n",
    "\n",
    "    for imagem in imagens_teste:\n",
    "        shutil.copy(os.path.join(diretorio_imagens, imagem), diretorio_teste)"
   ]
  },
  {
   "cell_type": "markdown",
   "metadata": {},
   "source": [
    "Gerar pasta de validação"
   ]
  },
  {
   "cell_type": "code",
   "execution_count": 13,
   "metadata": {},
   "outputs": [
    {
     "name": "stdout",
     "output_type": "stream",
     "text": [
      "Arquivo '0.jpg' copiado com sucesso.\n",
      "Arquivo '10.jpg' copiado com sucesso.\n",
      "Arquivo '100.jpg' copiado com sucesso.\n",
      "Arquivo '1000.jpg' copiado com sucesso.\n",
      "Arquivo '10000.jpg' copiado com sucesso.\n",
      "Arquivo '0.jpg' copiado com sucesso.\n",
      "Arquivo '1.jpg' copiado com sucesso.\n",
      "Arquivo '10.jpg' copiado com sucesso.\n",
      "Arquivo '100.jpg' copiado com sucesso.\n",
      "Arquivo '1000.jpg' copiado com sucesso.\n"
     ]
    }
   ],
   "source": [
    "\n",
    "def copiar_arquivos(origem, destino, quantidade):\n",
    "    if not os.path.exists(destino):\n",
    "        os.makedirs(destino)\n",
    "    arquivos = os.listdir(origem)\n",
    "    arquivos_selecionados = arquivos[:quantidade]\n",
    "    for arquivo in arquivos_selecionados:\n",
    "        origem_arquivo = os.path.join(origem, arquivo)\n",
    "        destino_arquivo = os.path.join(destino, arquivo)\n",
    "        shutil.copy(origem_arquivo, destino_arquivo)\n",
    "        print(f\"Arquivo '{arquivo}' copiado com sucesso.\")\n",
    "        \n",
    "        \n",
    "copiar_arquivos(\"./data/dataset_treino_e_teste/train/Cat\", \"./data/dataset_treino_e_teste/validation/Cat/\", 5)\n",
    "copiar_arquivos(\"./data/dataset_treino_e_teste/train/Dog\", \"./data/dataset_treino_e_teste/validation/Dog\", 5)"
   ]
  },
  {
   "cell_type": "markdown",
   "metadata": {},
   "source": [
    "Deletar arquivos do path"
   ]
  },
  {
   "cell_type": "code",
   "execution_count": 17,
   "metadata": {},
   "outputs": [],
   "source": [
    "def delete_files(directory, num_files):\n",
    "    files = os.listdir(directory)\n",
    "    \n",
    "    files.sort(key=lambda x: os.path.getmtime(os.path.join(directory, x)))\n",
    "    \n",
    "    for i in range(num_files):\n",
    "        file_to_delete = os.path.join(directory, files[i])\n",
    "        os.remove(file_to_delete)\n",
    "\n",
    "directory = \"../VIT-dog-cat/data/dataset_treino_e_teste/test/dog\"\n",
    "\n",
    "num_files_to_delete = 1494\n",
    "\n",
    "delete_files(directory, num_files_to_delete)"
   ]
  },
  {
   "cell_type": "markdown",
   "metadata": {},
   "source": [
    "Redimensionar dataset"
   ]
  },
  {
   "cell_type": "code",
   "execution_count": 5,
   "metadata": {},
   "outputs": [],
   "source": [
    "from PIL import Image\n",
    "import os\n",
    "\n",
    "def redimensionar_imagens(path, novo_tamanho):\n",
    "    for filename in os.listdir(path):\n",
    "      \n",
    "       \n",
    "        if filename.endswith(\".jpg\") or filename.endswith(\".png\"):\n",
    "            image_path = os.path.join(path, filename)\n",
    "            try:\n",
    "                image = Image.open(image_path)\n",
    "                image_rgb = image.convert(\"RGB\")\n",
    "                resized_image = image_rgb.resize(novo_tamanho)\n",
    "                resized_image.save(os.path.join(path, filename))\n",
    "            except OSError as e:\n",
    "                os.remove(image_path)\n",
    "                print(f\"Arquivo {filename} excluído.\")\n",
    "\n",
    "path = '../VIT-dog-cat/data/dataset_treino_e_teste/test/Dog/'\n",
    "novo_tamanho = (32, 32) \n",
    "redimensionar_imagens(path, novo_tamanho)"
   ]
  }
 ],
 "metadata": {
  "kernelspec": {
   "display_name": "env",
   "language": "python",
   "name": "python3"
  },
  "language_info": {
   "codemirror_mode": {
    "name": "ipython",
    "version": 3
   },
   "file_extension": ".py",
   "mimetype": "text/x-python",
   "name": "python",
   "nbconvert_exporter": "python",
   "pygments_lexer": "ipython3",
   "version": "3.11.1"
  }
 },
 "nbformat": 4,
 "nbformat_minor": 2
}

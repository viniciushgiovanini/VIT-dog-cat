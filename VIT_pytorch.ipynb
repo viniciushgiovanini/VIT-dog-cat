{
 "cells": [
  {
   "cell_type": "markdown",
   "metadata": {},
   "source": [
    "# Vision Transformer with Pytorch (CPU)"
   ]
  },
  {
   "cell_type": "code",
   "execution_count": 1,
   "metadata": {},
   "outputs": [],
   "source": [
    "import torch\n",
    "import torch.nn as nn\n",
    "import torchvision.transforms as T\n",
    "from torch.optim import Adam\n",
    "import torchvision.models as models\n",
    "\n",
    "import matplotlib.pyplot as plt\n",
    "\n",
    "from torchvision.datasets import ImageFolder\n",
    "from torch.utils.data import DataLoader"
   ]
  },
  {
   "cell_type": "markdown",
   "metadata": {},
   "source": [
    "Prepare Data"
   ]
  },
  {
   "cell_type": "code",
   "execution_count": 3,
   "metadata": {},
   "outputs": [],
   "source": [
    "transform = T.Compose([\n",
    "    T.ToTensor(),\n",
    "    T.Resize((224, 224)),\n",
    "    T.Normalize((0.5, 0.5, 0.5), (0.5, 0.5, 0.5))\n",
    "])\n",
    "\n",
    "train_data_path = '../VIT-dog-cat/data/dataset_treino_e_teste/train'\n",
    "test_data_path = '../VIT-dog-cat/data/dataset_treino_e_teste/test'\n",
    "\n",
    "train_dataset = ImageFolder(root=train_data_path, transform=transform)\n",
    "test_dataset = ImageFolder(root=test_data_path, transform=transform)\n",
    "\n",
    "train_loader = DataLoader(train_dataset, batch_size=64, shuffle=True)\n",
    "test_loader = DataLoader(test_dataset, batch_size=64, shuffle=False)\n"
   ]
  },
  {
   "cell_type": "markdown",
   "metadata": {},
   "source": [
    "Import pretrained model"
   ]
  },
  {
   "cell_type": "code",
   "execution_count": 4,
   "metadata": {},
   "outputs": [
    {
     "name": "stderr",
     "output_type": "stream",
     "text": [
      "d:\\AREA_DE_TRABALHO\\Faculdade_7_Periodo\\TCC1\\VIT-dog-cat\\env\\Lib\\site-packages\\torchvision\\models\\_utils.py:208: UserWarning: The parameter 'pretrained' is deprecated since 0.13 and may be removed in the future, please use 'weights' instead.\n",
      "  warnings.warn(\n",
      "d:\\AREA_DE_TRABALHO\\Faculdade_7_Periodo\\TCC1\\VIT-dog-cat\\env\\Lib\\site-packages\\torchvision\\models\\_utils.py:223: UserWarning: Arguments other than a weight enum or `None` for 'weights' are deprecated since 0.13 and may be removed in the future. The current behavior is equivalent to passing `weights=ViT_L_32_Weights.IMAGENET1K_V1`. You can also use `weights=ViT_L_32_Weights.DEFAULT` to get the most up-to-date weights.\n",
      "  warnings.warn(msg)\n"
     ]
    }
   ],
   "source": [
    "model = models.vit_l_32(pretrained=True)"
   ]
  },
  {
   "cell_type": "markdown",
   "metadata": {},
   "source": [
    "Fine Tuning"
   ]
  },
  {
   "cell_type": "code",
   "execution_count": 5,
   "metadata": {},
   "outputs": [],
   "source": [
    "# last_layer_name, last_layer = list(model.named_modules())[-1]\n",
    "# num_features = last_layer.in_features\n",
    "# setattr(model, last_layer_name, nn.Linear(num_features, 2))\n",
    "\n",
    "for name, layer in model.named_modules():\n",
    "    if isinstance(layer, nn.Linear):\n",
    "        num_features = layer.in_features\n",
    "        break\n",
    "      \n",
    "model.head = nn.Sequential(\n",
    "    nn.Linear(num_features, 1),  \n",
    "    nn.Sigmoid()  \n",
    ")"
   ]
  },
  {
   "cell_type": "code",
   "execution_count": 8,
   "metadata": {},
   "outputs": [],
   "source": [
    "for name, param in model.named_parameters():\n",
    "    if name.startswith('head'):\n",
    "        param.requires_grad = True  \n",
    "    else:\n",
    "        param.requires_grad = False"
   ]
  },
  {
   "cell_type": "markdown",
   "metadata": {},
   "source": [
    "Train the model"
   ]
  },
  {
   "cell_type": "code",
   "execution_count": 9,
   "metadata": {},
   "outputs": [
    {
     "data": {
      "text/plain": [
       "device(type='cpu')"
      ]
     },
     "execution_count": 9,
     "metadata": {},
     "output_type": "execute_result"
    }
   ],
   "source": [
    "device = torch.device('cuda' if torch.cuda.is_available() else 'cpu')\n",
    "device"
   ]
  },
  {
   "cell_type": "code",
   "execution_count": 10,
   "metadata": {},
   "outputs": [],
   "source": [
    "model.to(device)\n",
    "criterion = nn.BCEWithLogitsLoss()\n",
    "optimizer = Adam(model.parameters(), lr=0.001)"
   ]
  },
  {
   "cell_type": "code",
   "execution_count": 15,
   "metadata": {},
   "outputs": [
    {
     "name": "stdout",
     "output_type": "stream",
     "text": [
      "Epoch [1/3], Step [1/5], Loss: 0.3666, Acurracy Train: 0.0000\n",
      "Epoch [1/3], Step [2/5], Loss: 0.3369, Acurracy Train: 0.0000\n",
      "Epoch [1/3], Step [3/5], Loss: 0.3201, Acurracy Train: 0.0000\n",
      "Epoch [1/3], Step [4/5], Loss: 0.2636, Acurracy Train: 0.0000\n",
      "Epoch [1/3], Step [5/5], Loss: 0.2300, Acurracy Train: 0.0000\n",
      "----------------X------------------\n",
      "Epoch [1/3], Loss: 0.2980\n",
      "Epoch [2/3], Step [1/5], Loss: 0.2350, Acurracy Train: 0.0156\n",
      "Epoch [2/3], Step [2/5], Loss: 0.2042, Acurracy Train: 0.0234\n",
      "Epoch [2/3], Step [3/5], Loss: 0.2096, Acurracy Train: 0.0260\n",
      "Epoch [2/3], Step [4/5], Loss: 0.1822, Acurracy Train: 0.0391\n",
      "Epoch [2/3], Step [5/5], Loss: 0.1908, Acurracy Train: 0.0469\n",
      "----------------X------------------\n",
      "Epoch [2/3], Loss: 0.2068\n",
      "Epoch [3/3], Step [1/5], Loss: 0.1610, Acurracy Train: 0.0938\n",
      "Epoch [3/3], Step [2/5], Loss: 0.1526, Acurracy Train: 0.1250\n",
      "Epoch [3/3], Step [3/5], Loss: 0.1543, Acurracy Train: 0.1250\n",
      "Epoch [3/3], Step [4/5], Loss: 0.1557, Acurracy Train: 0.1445\n",
      "Epoch [3/3], Step [5/5], Loss: 0.1318, Acurracy Train: 0.1656\n",
      "----------------X------------------\n",
      "Epoch [3/3], Loss: 0.1470\n"
     ]
    }
   ],
   "source": [
    "num_epochs = 3\n",
    "total_steps = 5\n",
    "\n",
    "train_losses = []\n",
    "val_losses = []\n",
    "train_accuracies = []\n",
    "val_accuracies = []\n",
    "\n",
    "for epoch in range(num_epochs):\n",
    "  \n",
    "    running_loss = 0.0\n",
    "    correct_train = 0\n",
    "    total_train = 0\n",
    "  \n",
    "    model.train()\n",
    "    for step, (images, labels) in enumerate(train_loader):\n",
    "        images, labels = images.to(device), labels.to(device)\n",
    "        optimizer.zero_grad()\n",
    "        outputs = model(images)\n",
    "        # Convertendo labels para one-hot\n",
    "        labels_one_hot = torch.zeros_like(outputs)\n",
    "        labels_one_hot.scatter_(1, labels.unsqueeze(1), 1)\n",
    "        loss = criterion(outputs, labels_one_hot)\n",
    "        loss.backward()\n",
    "        optimizer.step()\n",
    "\n",
    "        running_loss += loss.item()\n",
    "        _, predicted = torch.max(outputs.data, 1)\n",
    "        total_train += labels.size(0)\n",
    "        correct_train += (predicted == labels).sum().item()\n",
    "        train_accuracy = correct_train / total_train\n",
    "        if step == total_steps:\n",
    "          print(\"----------------X------------------\")\n",
    "          break\n",
    "\n",
    "        print(f'Epoch [{epoch+1}/{num_epochs}], Step [{step+1}/{total_steps}], Loss: {loss.item():.4f}, Acurracy Train: {train_accuracy:.4f}')\n",
    "        \n",
    "    train_loss = running_loss / len(train_loader)\n",
    "    train_accuracy = correct_train / total_train\n",
    "    train_losses.append(train_loss)\n",
    "    train_accuracies.append(train_accuracy)\n",
    "    \n",
    "    \n",
    "    print(f'Epoch [{epoch+1}/{num_epochs}], Loss: {loss.item():.4f}')\n",
    "    \n",
    "    \n",
    "torch.save(model.state_dict(), './models/modelo_vit_cpu.pth')"
   ]
  },
  {
   "cell_type": "code",
   "execution_count": null,
   "metadata": {},
   "outputs": [],
   "source": [
    "# Validation\n",
    "model.eval()\n",
    "running_val_loss = 0.0\n",
    "correct_val = 0\n",
    "total_val = 0\n",
    "\n",
    "with torch.no_grad():\n",
    "    for images, labels in test_loader:\n",
    "        images, labels = images.to(device), labels.to(device)\n",
    "        outputs = model(images)\n",
    "        \n",
    "        labels_one_hot = torch.zeros_like(outputs)\n",
    "        labels_one_hot.scatter_(1, labels.unsqueeze(1), 1)\n",
    "        \n",
    "        loss = criterion(outputs, labels_one_hot)\n",
    "        \n",
    "        running_val_loss += loss.item()\n",
    "        _, predicted = torch.max(outputs.data, 1)\n",
    "        total_val += labels.size(0)\n",
    "        correct_val += (predicted == labels).sum().item()\n",
    "\n",
    "val_loss = running_val_loss / len(test_loader)\n",
    "val_accuracy = correct_val / total_val\n",
    "val_losses.append(val_loss)\n",
    "val_accuracies.append(val_accuracy)"
   ]
  },
  {
   "cell_type": "code",
   "execution_count": 16,
   "metadata": {},
   "outputs": [
    {
     "data": {
      "image/png": "[encoded data removed]",
      "text/plain": [
       "<Figure size 1000x500 with 2 Axes>"
      ]
     },
     "metadata": {},
     "output_type": "display_data"
    }
   ],
   "source": [
    "plt.figure(figsize=(10, 5))\n",
    "plt.subplot(1, 2, 1)\n",
    "plt.plot(train_accuracies, label='Train Accuracy')\n",
    "plt.plot(val_accuracies, label='Validation Accuracy')\n",
    "plt.xlabel('Epoch')\n",
    "plt.ylabel('Accuracy')\n",
    "plt.title('Accuracy vs. Epoch')\n",
    "plt.legend()\n",
    "\n",
    "plt.subplot(1, 2, 2)\n",
    "plt.plot(train_losses, label='Train Loss')\n",
    "plt.plot(val_losses, label='Validation Loss')\n",
    "plt.xlabel('Epoch')\n",
    "plt.ylabel('Loss')\n",
    "plt.title('Loss vs. Epoch')\n",
    "plt.legend()\n",
    "\n",
    "plt.tight_layout()\n",
    "plt.show()"
   ]
  },
  {
   "cell_type": "markdown",
   "metadata": {},
   "source": [
    "# Validate"
   ]
  },
  {
   "cell_type": "code",
   "execution_count": 7,
   "metadata": {},
   "outputs": [],
   "source": [
    "import torch\n",
    "import torchvision.transforms as transforms\n",
    "from PIL import Image\n",
    "import torch.nn as nn\n",
    "import torchvision.models as models\n",
    "from transformers import ViTForImageClassification\n",
    "\n",
    "state_dict = torch.load('../VIT-dog-cat/models/modelo_vit_gpu.pth', map_location=torch.device('cpu'))\n",
    "model_state_dict = model.state_dict()\n",
    "\n",
    "state_dict = {k: v for k, v in state_dict.items() if k in model_state_dict}\n",
    "\n",
    "model.load_state_dict(state_dict, strict=False)\n",
    "\n",
    "\n",
    "transform = transforms.Compose([\n",
    "    transforms.Resize(224),  \n",
    "    transforms.CenterCrop(224),\n",
    "    transforms.ToTensor(),  \n",
    "    transforms.Normalize(mean=[0.485, 0.456, 0.406], std=[0.229, 0.224, 0.225]), \n",
    "])\n"
   ]
  },
  {
   "cell_type": "code",
   "execution_count": 30,
   "metadata": {},
   "outputs": [
    {
     "name": "stdout",
     "output_type": "stream",
     "text": [
      "Classe prevista: tensor([[0.5801]])\n"
     ]
    }
   ],
   "source": [
    "image_path = '../VIT-dog-cat/data/dataset_treino_e_teste/validation/Dog/1000.jpg'  \n",
    "image = Image.open(image_path)\n",
    "image = transform(image)\n",
    "image = image.unsqueeze(0)  \n",
    "\n",
    "import torch.nn.functional as F\n",
    "with torch.no_grad():\n",
    "    output = model(image)\n",
    "    probabilities = F.sigmoid(output.logits)\n",
    "\n",
    "print(\"Classe prevista:\",probabilities)"
   ]
  }
 ],
 "metadata": {
  "kernelspec": {
   "display_name": "env",
   "language": "python",
   "name": "python3"
  },
  "language_info": {
   "codemirror_mode": {
    "name": "ipython",
    "version": 3
   },
   "file_extension": ".py",
   "mimetype": "text/x-python",
   "name": "python",
   "nbconvert_exporter": "python",
   "pygments_lexer": "ipython3",
   "version": "3.11.1"
  }
 },
 "nbformat": 4,
 "nbformat_minor": 2
}
